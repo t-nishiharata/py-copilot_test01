{
 "cells": [
  {
   "cell_type": "code",
   "execution_count": null,
   "metadata": {},
   "outputs": [],
   "source": [
    "print(\"Hello, world!\")\n"
   ]
  },
  {
   "cell_type": "markdown",
   "metadata": {},
   "source": [
    "## src/ch02/0204.ipynb"
   ]
  },
  {
   "cell_type": "code",
   "execution_count": null,
   "metadata": {},
   "outputs": [],
   "source": [
    "message = \"こんにちは、世界！\"\n",
    "print(message)"
   ]
  },
  {
   "cell_type": "code",
   "execution_count": null,
   "metadata": {},
   "outputs": [],
   "source": [
    "\n",
    "message = \"Hello, planet!\"\n",
    "print(message)\n",
    "\n",
    "message = \"Hello\"\n",
    "#len()関数は文字列の長さを返す  \n",
    "if len(message) > 10:\n",
    "    print(\"Message is longer than 10 characters.\")\n",
    "else:\n",
    "    print(\"Message is 10 characters or less.\")"
   ]
  },
  {
   "cell_type": "code",
   "execution_count": null,
   "metadata": {},
   "outputs": [],
   "source": [
    "# 四則演算のサンプルコード\n",
    "a = 10\n",
    "b = 5\n",
    "\n",
    "# フォーマット文字列は、f文字を先頭に付けることで、文字列内に変数や式を埋め込むことができます。\n",
    "\n",
    "# 加算\n",
    "addition = a + b\n",
    "print(f\"{a} + {b} = {addition}\")\n",
    "\n",
    "# 減算\n",
    "subtraction = a - b\n",
    "print(f\"{a} - {b} = {subtraction}\")\n",
    "\n",
    "# 乗算\n",
    "multiplication = a * b\n",
    "print(f\"{a} * {b} = {multiplication}\")\n",
    "\n",
    "# 除算\n",
    "division = a / b\n",
    "print(f\"{a} / {b} = {division}\")"
   ]
  }
 ],
 "metadata": {
  "kernelspec": {
   "display_name": "Python 3",
   "language": "python",
   "name": "python3"
  },
  "language_info": {
   "codemirror_mode": {
    "name": "ipython",
    "version": 3
   },
   "file_extension": ".py",
   "mimetype": "text/x-python",
   "name": "python",
   "nbconvert_exporter": "python",
   "pygments_lexer": "ipython3",
   "version": "3.12.8"
  }
 },
 "nbformat": 4,
 "nbformat_minor": 2
}
